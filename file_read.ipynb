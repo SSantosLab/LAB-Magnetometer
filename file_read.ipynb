{
 "cells": [
  {
   "cell_type": "code",
   "execution_count": 1,
   "id": "8fe20c49-cc9d-463b-88c8-58f49a5ff220",
   "metadata": {},
   "outputs": [],
   "source": [
    "import numpy as np\n",
    "import h5py\n",
    "import polars as pl"
   ]
  },
  {
   "cell_type": "code",
   "execution_count": 7,
   "id": "9c6c3faf-65f5-4ae5-8e1f-b861ded8dfd0",
   "metadata": {},
   "outputs": [],
   "source": [
    "path = './bigmag_test4/mag_2025_06_12_09_29.hdf5'\n",
    "\n",
    "f = h5py.File(path, 'r')"
   ]
  },
  {
   "cell_type": "code",
   "execution_count": 8,
   "id": "1a64fbd8-4e34-4efb-b86d-ac3e7d27d928",
   "metadata": {},
   "outputs": [
    {
     "name": "stdout",
     "output_type": "stream",
     "text": [
      "<KeysViewHDF5 ['voltage']>\n"
     ]
    }
   ],
   "source": [
    "print(f.keys())"
   ]
  },
  {
   "cell_type": "code",
   "execution_count": 9,
   "id": "5416bd58-0377-480f-bed4-adba21560742",
   "metadata": {},
   "outputs": [],
   "source": [
    "voltage = f['voltage']"
   ]
  },
  {
   "cell_type": "code",
   "execution_count": 10,
   "id": "e97aaf22-205b-4898-a060-e3fa5d46d99e",
   "metadata": {},
   "outputs": [
    {
     "data": {
      "text/plain": [
       "np.float64(30000.0)"
      ]
     },
     "execution_count": 10,
     "metadata": {},
     "output_type": "execute_result"
    }
   ],
   "source": [
    "voltage.attrs['sample_rate']"
   ]
  },
  {
   "cell_type": "code",
   "execution_count": 11,
   "id": "cd706052-fa88-439c-b698-753b7f1ebfd2",
   "metadata": {},
   "outputs": [
    {
     "data": {
      "text/plain": [
       "(9004651, 3)"
      ]
     },
     "execution_count": 11,
     "metadata": {},
     "output_type": "execute_result"
    }
   ],
   "source": [
    "voltage.shape"
   ]
  },
  {
   "cell_type": "code",
   "execution_count": 12,
   "id": "823262c9-4fd5-4de4-af1a-bef1f0c92ee0",
   "metadata": {},
   "outputs": [
    {
     "data": {
      "text/plain": [
       "<KeysViewHDF5 ['channels', 'end_time', 'measure_time', 'sample_rate']>"
      ]
     },
     "execution_count": 12,
     "metadata": {},
     "output_type": "execute_result"
    }
   ],
   "source": [
    "voltage.attrs.keys()"
   ]
  },
  {
   "cell_type": "code",
   "execution_count": 17,
   "id": "8788ee43-4b5b-4cb9-b42e-5aecea03debc",
   "metadata": {},
   "outputs": [
    {
     "data": {
      "text/plain": [
       "array([0.24963226, 0.25086315, 0.25209403, ..., 0.41426331, 0.41364787,\n",
       "       0.41364787], shape=(9004651,))"
      ]
     },
     "execution_count": 17,
     "metadata": {},
     "output_type": "execute_result"
    }
   ],
   "source": [
    "voltage[:,1]"
   ]
  },
  {
   "cell_type": "code",
   "execution_count": 18,
   "id": "52bc44b9-6f5b-42b0-9be3-cf6a9c294460",
   "metadata": {},
   "outputs": [],
   "source": [
    "%load_ext autoreload\n",
    "%autoreload 2\n",
    "%matplotlib inline"
   ]
  },
  {
   "cell_type": "code",
   "execution_count": 19,
   "id": "5f8b4856-bd31-448b-81c4-93d7f7c50d9d",
   "metadata": {},
   "outputs": [],
   "source": [
    "import numpy as np\n",
    "import matplotlib.pyplot as plt\n",
    "import sys\n",
    "sys.path.append('../')\n",
    "from magnetofft import *"
   ]
  },
  {
   "cell_type": "code",
   "execution_count": 20,
   "id": "ec7d5762-e46e-45a8-beef-137d4eab9635",
   "metadata": {},
   "outputs": [],
   "source": [
    "dset = load_hdf5(path)"
   ]
  },
  {
   "cell_type": "code",
   "execution_count": 21,
   "id": "d66c437c-3e00-4d7b-a854-3bb91847a20c",
   "metadata": {},
   "outputs": [],
   "source": [
    "x = dset['x']\n",
    "fs = dset['sample_rate']"
   ]
  },
  {
   "cell_type": "code",
   "execution_count": 10,
   "id": "7842ecbc-820f-44f1-bcc6-c4add8e20aad",
   "metadata": {},
   "outputs": [],
   "source": [
    "df = pl.read_csv('20250612_10h/mag_2025_06_13_15_59.csv')"
   ]
  },
  {
   "cell_type": "code",
   "execution_count": 11,
   "id": "784e6993-bd4b-4709-b010-fc1ef6444e2b",
   "metadata": {},
   "outputs": [],
   "source": [
    "data = df.to_numpy()"
   ]
  },
  {
   "cell_type": "code",
   "execution_count": 12,
   "id": "eb4c898c-79a5-4d05-a0cc-fea434be2998",
   "metadata": {},
   "outputs": [
    {
     "data": {
      "text/plain": [
       "(71992792,)"
      ]
     },
     "execution_count": 12,
     "metadata": {},
     "output_type": "execute_result"
    }
   ],
   "source": [
    "np.shape(data[:,0])"
   ]
  },
  {
   "cell_type": "code",
   "execution_count": null,
   "id": "2d9bcb3f-47f9-4536-8eb7-98f950ff9d1f",
   "metadata": {},
   "outputs": [],
   "source": []
  }
 ],
 "metadata": {
  "kernelspec": {
   "display_name": "Python 3 (ipykernel)",
   "language": "python",
   "name": "python3"
  },
  "language_info": {
   "codemirror_mode": {
    "name": "ipython",
    "version": 3
   },
   "file_extension": ".py",
   "mimetype": "text/x-python",
   "name": "python",
   "nbconvert_exporter": "python",
   "pygments_lexer": "ipython3",
   "version": "3.11.2"
  }
 },
 "nbformat": 4,
 "nbformat_minor": 5
}
